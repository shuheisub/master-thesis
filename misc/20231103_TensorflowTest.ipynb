{
 "cells": [
  {
   "cell_type": "markdown",
   "id": "8a9c1c16-aec0-4e46-9f8d-99c178210d21",
   "metadata": {},
   "source": [
    "# Test Tensorflow\n",
    "- 仮想環境を立てて初めの確認"
   ]
  },
  {
   "cell_type": "code",
   "execution_count": 3,
   "id": "ac3f71dc-bb23-4f87-9aab-685db52f515f",
   "metadata": {},
   "outputs": [],
   "source": [
    "from tensorflow.python.client import device_lib\n",
    "import tensorflow as tf\n",
    "import platform\n",
    "import psutil\n",
    "import matplotlib.pyplot as plt\n",
    "import time"
   ]
  },
  {
   "cell_type": "code",
   "execution_count": 4,
   "id": "6e836a46-e7d2-42fb-86fb-8fde4f643420",
   "metadata": {},
   "outputs": [
    {
     "data": {
      "text/plain": [
       "[name: \"/device:CPU:0\"\n",
       " device_type: \"CPU\"\n",
       " memory_limit: 268435456\n",
       " locality {\n",
       " }\n",
       " incarnation: 130525132034810679\n",
       " xla_global_id: -1,\n",
       " name: \"/device:GPU:0\"\n",
       " device_type: \"GPU\"\n",
       " memory_limit: 3643801600\n",
       " locality {\n",
       "   bus_id: 1\n",
       "   links {\n",
       "   }\n",
       " }\n",
       " incarnation: 10708251836371247238\n",
       " physical_device_desc: \"device: 0, name: NVIDIA GeForce RTX 3060 Laptop GPU, pci bus id: 0000:01:00.0, compute capability: 8.6\"\n",
       " xla_global_id: 416903419]"
      ]
     },
     "execution_count": 4,
     "metadata": {},
     "output_type": "execute_result"
    }
   ],
   "source": [
    "device_lib.list_local_devices()"
   ]
  },
  {
   "cell_type": "code",
   "execution_count": 5,
   "id": "50dbf9c6-2541-4713-a878-2b29f66ac1c9",
   "metadata": {},
   "outputs": [
    {
     "name": "stdout",
     "output_type": "stream",
     "text": [
      "2.10.1\n"
     ]
    }
   ],
   "source": [
    "print(tf.__version__)"
   ]
  },
  {
   "cell_type": "code",
   "execution_count": 6,
   "id": "0a157648-888c-4961-a7e6-056003b233ff",
   "metadata": {},
   "outputs": [
    {
     "name": "stdout",
     "output_type": "stream",
     "text": [
      "Intel64 Family 6 Model 154 Stepping 3, GenuineIntel\n"
     ]
    }
   ],
   "source": [
    "print(platform.processor())"
   ]
  },
  {
   "cell_type": "code",
   "execution_count": 7,
   "id": "f22af2cd-1392-4a1e-bfae-56fc6afa5e0d",
   "metadata": {},
   "outputs": [
    {
     "data": {
      "text/plain": [
       "svmem(total=34056757248, available=20759027712, percent=39.0, used=13297729536, free=20759027712)"
      ]
     },
     "execution_count": 7,
     "metadata": {},
     "output_type": "execute_result"
    }
   ],
   "source": [
    "psutil.virtual_memory()"
   ]
  },
  {
   "cell_type": "code",
   "execution_count": 8,
   "id": "2180aba2-7569-47ff-96a8-f192c784ff11",
   "metadata": {},
   "outputs": [],
   "source": [
    "(x_train, y_train), (x_test, y_test) = tf.keras.datasets.mnist.load_data()"
   ]
  },
  {
   "cell_type": "code",
   "execution_count": 9,
   "id": "ce44eb0e-983c-4cc9-b0ad-32282037ecf8",
   "metadata": {},
   "outputs": [
    {
     "data": {
      "text/plain": [
       "array([5, 0, 4, 1, 9, 2, 1, 3, 1, 4, 3, 5, 3, 6, 1, 7, 2, 8, 6, 9, 4, 0,\n",
       "       9, 1, 1], dtype=uint8)"
      ]
     },
     "execution_count": 9,
     "metadata": {},
     "output_type": "execute_result"
    }
   ],
   "source": [
    "y_train[:25]"
   ]
  },
  {
   "cell_type": "code",
   "execution_count": 10,
   "id": "9bffbf40-c1ff-481d-95b0-bf412425a93c",
   "metadata": {},
   "outputs": [
    {
     "data": {
      "image/png": "[encoded data removed]",
      "text/plain": [
       "<Figure size 800x800 with 25 Axes>"
      ]
     },
     "metadata": {},
     "output_type": "display_data"
    }
   ],
   "source": [
    "fig, axs = plt.subplots(5,5,figsize=(8,8))\n",
    "axs = axs.flatten()\n",
    "\n",
    "for img, ax in zip(x_train[:25], axs):\n",
    "    ax.imshow(img, cmap='gray')\n",
    "    ax.axis('off')\n",
    "    \n",
    "plt.tight_layout()\n",
    "plt.show()"
   ]
  },
  {
   "cell_type": "code",
   "execution_count": 11,
   "id": "082ebf7b-b497-4129-b1b5-ea1cd6bf6d0e",
   "metadata": {},
   "outputs": [
    {
     "name": "stdout",
     "output_type": "stream",
     "text": [
      "Epoch 1/10\n",
      "1875/1875 [==============================] - 4s 2ms/step - loss: 2.6323 - accuracy: 0.7656 - val_loss: 0.7777 - val_accuracy: 0.8623\n",
      "Epoch 2/10\n",
      "1875/1875 [==============================] - 4s 2ms/step - loss: 0.5755 - accuracy: 0.8542 - val_loss: 0.3949 - val_accuracy: 0.9135\n",
      "Epoch 3/10\n",
      "1875/1875 [==============================] - 4s 2ms/step - loss: 0.4791 - accuracy: 0.8761 - val_loss: 0.3460 - val_accuracy: 0.9136\n",
      "Epoch 4/10\n",
      "1875/1875 [==============================] - 4s 2ms/step - loss: 0.4374 - accuracy: 0.8900 - val_loss: 0.3025 - val_accuracy: 0.9265\n",
      "Epoch 5/10\n",
      "1875/1875 [==============================] - 4s 2ms/step - loss: 0.3899 - accuracy: 0.9011 - val_loss: 0.3036 - val_accuracy: 0.9305\n",
      "Epoch 6/10\n",
      "1875/1875 [==============================] - 4s 2ms/step - loss: 0.3670 - accuracy: 0.9081 - val_loss: 0.2830 - val_accuracy: 0.9354\n",
      "Epoch 7/10\n",
      "1875/1875 [==============================] - 4s 2ms/step - loss: 0.3400 - accuracy: 0.9143 - val_loss: 0.3746 - val_accuracy: 0.9346\n",
      "Epoch 8/10\n",
      "1875/1875 [==============================] - 4s 2ms/step - loss: 0.3341 - accuracy: 0.9173 - val_loss: 0.2795 - val_accuracy: 0.9449\n",
      "Epoch 9/10\n",
      "1875/1875 [==============================] - 4s 2ms/step - loss: 0.3315 - accuracy: 0.9202 - val_loss: 0.2729 - val_accuracy: 0.9489\n",
      "Epoch 10/10\n",
      "1875/1875 [==============================] - 4s 2ms/step - loss: 0.3164 - accuracy: 0.9225 - val_loss: 0.2918 - val_accuracy: 0.9463\n",
      "CPU time: 37.35685157775879\n",
      "Epoch 1/10\n",
      "1875/1875 [==============================] - 7s 2ms/step - loss: 0.3069 - accuracy: 0.9236 - val_loss: 0.3203 - val_accuracy: 0.9473\n",
      "Epoch 2/10\n",
      "1875/1875 [==============================] - 4s 2ms/step - loss: 0.3037 - accuracy: 0.9249 - val_loss: 0.2991 - val_accuracy: 0.9497\n",
      "Epoch 3/10\n",
      "1875/1875 [==============================] - 4s 2ms/step - loss: 0.3060 - accuracy: 0.9258 - val_loss: 0.2835 - val_accuracy: 0.9498\n",
      "Epoch 4/10\n",
      "1875/1875 [==============================] - 4s 2ms/step - loss: 0.2924 - accuracy: 0.9290 - val_loss: 0.2835 - val_accuracy: 0.9482\n",
      "Epoch 5/10\n",
      "1875/1875 [==============================] - 4s 2ms/step - loss: 0.3010 - accuracy: 0.9278 - val_loss: 0.3282 - val_accuracy: 0.9487\n",
      "Epoch 6/10\n",
      "1875/1875 [==============================] - 4s 2ms/step - loss: 0.2952 - accuracy: 0.9292 - val_loss: 0.3106 - val_accuracy: 0.9514\n",
      "Epoch 7/10\n",
      "1875/1875 [==============================] - 4s 2ms/step - loss: 0.2870 - accuracy: 0.9309 - val_loss: 0.3039 - val_accuracy: 0.9526\n",
      "Epoch 8/10\n",
      "1875/1875 [==============================] - 4s 2ms/step - loss: 0.2880 - accuracy: 0.9315 - val_loss: 0.2779 - val_accuracy: 0.9522\n",
      "Epoch 9/10\n",
      "1875/1875 [==============================] - 4s 2ms/step - loss: 0.2852 - accuracy: 0.9319 - val_loss: 0.3066 - val_accuracy: 0.9476\n",
      "Epoch 10/10\n",
      "1875/1875 [==============================] - 4s 2ms/step - loss: 0.2787 - accuracy: 0.9333 - val_loss: 0.3430 - val_accuracy: 0.9493\n",
      "GPU time: 46.21091961860657\n"
     ]
    }
   ],
   "source": [
    "# モデルの定義\n",
    "model = tf.keras.Sequential([\n",
    "    tf.keras.layers.Flatten(input_shape=(28, 28)),\n",
    "    tf.keras.layers.Dense(128, activation='relu'),\n",
    "    tf.keras.layers.Dropout(0.2),\n",
    "    tf.keras.layers.Dense(10)\n",
    "])\n",
    "\n",
    "# 損失関数とオプティマイザの定義\n",
    "loss_fn = tf.keras.losses.SparseCategoricalCrossentropy(from_logits=True)\n",
    "optimizer = tf.keras.optimizers.Adam()\n",
    "\n",
    "# CPUでの学習\n",
    "start_time = time.time()\n",
    "with tf.device('/CPU:0'):\n",
    "    model.compile(optimizer=optimizer, loss=loss_fn, metrics=['accuracy'])\n",
    "    model.fit(x_train, y_train, epochs=10, validation_data=(x_test, y_test))\n",
    "end_time = time.time()\n",
    "print(\"CPU time:\", end_time - start_time)\n",
    "\n",
    "# GPUでの学習\n",
    "start_time = time.time()\n",
    "with tf.device('/GPU:0'):\n",
    "    model.compile(optimizer=optimizer, loss=loss_fn, metrics=['accuracy'])\n",
    "    model.fit(x_train, y_train, epochs=10, validation_data=(x_test, y_test))\n",
    "end_time = time.time()\n",
    "print(\"GPU time:\", end_time - start_time)"
   ]
  },
  {
   "cell_type": "code",
   "execution_count": null,
   "id": "efb930de-d486-4196-b440-e7eb1bc957f5",
   "metadata": {},
   "outputs": [],
   "source": []
  }
 ],
 "metadata": {
  "kernelspec": {
   "display_name": "Python 3 (ipykernel)",
   "language": "python",
   "name": "python3"
  },
  "language_info": {
   "codemirror_mode": {
    "name": "ipython",
    "version": 3
   },
   "file_extension": ".py",
   "mimetype": "text/x-python",
   "name": "python",
   "nbconvert_exporter": "python",
   "pygments_lexer": "ipython3",
   "version": "3.9.6"
  }
 },
 "nbformat": 4,
 "nbformat_minor": 5
}

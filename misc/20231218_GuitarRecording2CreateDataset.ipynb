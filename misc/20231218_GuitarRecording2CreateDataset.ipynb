{
 "cells": [
  {
   "cell_type": "markdown",
   "id": "9698f557-516d-4b07-9716-0ecaad753c21",
   "metadata": {},
   "source": [
    "# Guitar recording to create dataset\n",
    "\n",
    "**各弦ごとの評価をするためのデータセットを作成**\n",
    "\n",
    "* 各弦ごとの評価をgood or badで与える"
   ]
  },
  {
   "cell_type": "code",
   "execution_count": 1,
   "id": "26a76d4a-df64-4298-ab3e-e51572e26788",
   "metadata": {},
   "outputs": [],
   "source": [
    "import sounddevice as sd\n",
    "import numpy as np\n",
    "import wave\n",
    "import time\n",
    "\n",
    "import librosa"
   ]
  },
  {
   "cell_type": "markdown",
   "id": "1db441df-3581-4b4a-995f-b073b7f2e7a9",
   "metadata": {},
   "source": [
    "sd.query_devices()"
   ]
  },
  {
   "cell_type": "code",
   "execution_count": 2,
   "id": "774e0d8c-b94e-413b-81ff-e7a0ccf94ed9",
   "metadata": {},
   "outputs": [
    {
     "name": "stdout",
     "output_type": "stream",
     "text": [
      "fin\n"
     ]
    }
   ],
   "source": [
    "#recording\n",
    "fs = 44100\n",
    "sd.default.device = [1, 10]\n",
    "recording = False\n",
    "\n",
    "duration = 5\n",
    "\n",
    "data = sd.rec(int(duration * fs), samplerate=fs, channels=1)\n",
    "sd.wait()\n",
    "\n",
    "print(\"fin\")\n",
    "\n",
    "if recording:\n",
    "    #save\n",
    "    save_path = \"../dataset_Asus4onE/chord_stroke_001.wav\"\n",
    "    \n",
    "    dst = data / data.max() * np.iinfo(np.int16).max\n",
    "    dst = dst.astype(np.int16)\n",
    "    \n",
    "    with wave.open(save_path, mode=\"wb\") as wb:\n",
    "        wb.setnchannels(1)\n",
    "        wb.setsampwidth(2)\n",
    "        wb.setframerate(fs)\n",
    "        wb.writeframes(dst.tobytes())"
   ]
  },
  {
   "cell_type": "code",
   "execution_count": 3,
   "id": "0ec21aa3-cd8a-436f-aba4-fee0bfef3c2d",
   "metadata": {},
   "outputs": [],
   "source": [
    "sd.play(data, samplerate=fs)"
   ]
  },
  {
   "cell_type": "code",
   "execution_count": 55,
   "id": "35619bc5-0da1-49ce-8e94-418dc4ac57c8",
   "metadata": {},
   "outputs": [
    {
     "name": "stdout",
     "output_type": "stream",
     "text": [
      "start recording :030\n",
      "end\n",
      "start recording :031\n",
      "end\n",
      "start recording :032\n",
      "end\n",
      "start recording :033\n",
      "end\n",
      "start recording :034\n",
      "end\n",
      "start recording :035\n",
      "end\n",
      "start recording :036\n",
      "end\n",
      "start recording :037\n",
      "end\n",
      "start recording :038\n",
      "end\n",
      "start recording :039\n",
      "end\n",
      "start recording :040\n",
      "end\n",
      "start recording :041\n",
      "end\n",
      "start recording :042\n",
      "end\n",
      "start recording :043\n",
      "end\n",
      "start recording :044\n",
      "end\n",
      "start recording :045\n",
      "end\n",
      "start recording :046\n",
      "end\n",
      "start recording :047\n",
      "end\n",
      "start recording :048\n",
      "end\n",
      "start recording :049\n",
      "end\n"
     ]
    }
   ],
   "source": [
    "fs = 44100\n",
    "sd.default.device = [1, 10]\n",
    "duration = 3\n",
    "recording = True\n",
    "\n",
    "save_dir = \"C:/Users/shuhei/anaconda3/envs/tensorflow/workspace/datasets/dataset_Asus4onE_color/\"\n",
    "prefix = \"000000\"\n",
    "suffix = \".wav\"\n",
    "\n",
    "if recording:\n",
    "    for n in range(30,50):\n",
    "        file_num = str(n).zfill(3)\n",
    "        save_path = save_dir + prefix + \"_\" + file_num + suffix\n",
    "        \n",
    "        print(f\"start recording :{file_num}\")\n",
    "        data = sd.rec(int(duration * fs), samplerate=fs, channels=1)\n",
    "        sd.wait()\n",
    "        \n",
    "        dst = data / data.max() * np.iinfo(np.int16).max\n",
    "        dst = dst.astype(np.int16)\n",
    "        \n",
    "        with wave.open(save_path, mode=\"wb\") as wb:\n",
    "            wb.setnchannels(1)\n",
    "            wb.setsampwidth(2)\n",
    "            wb.setframerate(fs)\n",
    "            wb.writeframes(dst.tobytes())\n",
    "            \n",
    "        print(\"end\")\n",
    "        time.sleep(2)"
   ]
  },
  {
   "cell_type": "code",
   "execution_count": null,
   "id": "6d2fc069-cee3-43f4-abef-69dad2ae5bdc",
   "metadata": {},
   "outputs": [],
   "source": []
  },
  {
   "cell_type": "code",
   "execution_count": null,
   "id": "fdc09e1d-d8bb-431d-ad39-3b65084d85e2",
   "metadata": {},
   "outputs": [],
   "source": []
  }
 ],
 "metadata": {
  "kernelspec": {
   "display_name": "Python 3 (ipykernel)",
   "language": "python",
   "name": "python3"
  },
  "language_info": {
   "codemirror_mode": {
    "name": "ipython",
    "version": 3
   },
   "file_extension": ".py",
   "mimetype": "text/x-python",
   "name": "python",
   "nbconvert_exporter": "python",
   "pygments_lexer": "ipython3",
   "version": "3.9.6"
  }
 },
 "nbformat": 4,
 "nbformat_minor": 5
}
